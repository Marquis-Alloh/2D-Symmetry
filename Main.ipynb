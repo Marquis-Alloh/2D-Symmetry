{
 "cells": [
  {
   "cell_type": "markdown",
   "id": "d7a6277b",
   "metadata": {},
   "source": [
    "## Title: Shape and symmetry of 2D shapes in images\n",
    "\n",
    "supervior: Wolfram\n",
    "\n",
    "In this project the goal is to create and/or identify a set of images, both real and simulated, which can be used to quantify the symmetry of an object."
   ]
  },
  {
   "cell_type": "markdown",
   "id": "cc3dbb85",
   "metadata": {},
   "source": [
    "# Table of Contents\n",
    "1. [Main.ipynb:](Main.ipynb)  The main code file which will take in th needed data and return the expected outputs\n",
    "\n",
    "2. [Func.py:](Funcs.py) A file which will contain functions that are used repeatedly throughout different files\n",
    "\n",
    "3. [Data:](Data) A folder containing all data to be used for the project.\n",
    "\n",
    "    1. [Raw:](Data\\Raw) A folder containing all the unprocessed data.\n",
    "    2. [Converted:](Data\\Converted) A folder containing all the completely processed data.\n",
    "    3. [Binary:](Data\\Binary) A folder containing all the binary images\n",
    "\n",
    "\n",
    "\n"
   ]
  },
  {
   "cell_type": "code",
   "execution_count": 6,
   "id": "b22b9c31",
   "metadata": {},
   "outputs": [],
   "source": [
    "import matplotlib.pyplot as plt\n",
    "import numpy as np\n",
    "import pandas as pd\n",
    "import cv2 as cv # will be used for a number of image processing methods\n",
    "import Funcs as F"
   ]
  },
  {
   "cell_type": "markdown",
   "id": "1e0a6289",
   "metadata": {},
   "source": [
    "there's three sections here, this will work by creating our binary images, then calculating the centroid and finally making the actual symmetry analysis. It is important to do this as it makes the code more readable\n"
   ]
  },
  {
   "cell_type": "code",
   "execution_count": 7,
   "id": "785aef3f",
   "metadata": {},
   "outputs": [],
   "source": [
    "def Apply_Noise():\n",
    "    # supervior: you should include noise after the binary image is produced,\n",
    "    # may want to check the impact of noise on image moment calculations.\n",
    "    # also real images may not require noise addition.\n",
    "    print(\"\")\n",
    "    \n"
   ]
  },
  {
   "cell_type": "code",
   "execution_count": 8,
   "id": "18e5c8c6",
   "metadata": {},
   "outputs": [],
   "source": [
    "# our images of interest\n",
    "# Supervisor: use images which are either real or simulated\n",
    "imgs = [r\"Data\\Raw\\star.jpg\",r\"Data\\Raw\\tiger.jpg\",r\"Data\\Raw\\butterfly.jpg\",r\"Data\\Raw\\Bear.jpg\"]"
   ]
  },
  {
   "cell_type": "markdown",
   "id": "1c4141d1",
   "metadata": {},
   "source": [
    "We may want to compare binary images found to those found using fiji."
   ]
  },
  {
   "cell_type": "code",
   "execution_count": 9,
   "id": "ea753027",
   "metadata": {},
   "outputs": [],
   "source": [
    "F.Img_Conv(imgs[-1])"
   ]
  },
  {
   "cell_type": "markdown",
   "id": "a8b1d571",
   "metadata": {},
   "source": [
    "# Bibliography\n",
    "\n",
    "i. Books\n",
    "1. 1\n",
    "\n",
    "ii. Research Papers\n",
    "1. Zhang, Y. (2015). [\"Pathological Brain Detection based on wavelet entropy and Hu moment invariants\"](https://journals.sagepub.com/doi/10.3233/BME-151426). Bio-Medical Materials and Engineering. 26: 1283–1290. doi:10.3233/BME-151426. PMID 26405888.\n",
    "\n",
    "iii. Online Resources\n",
    "1. 1\n",
    "2. 2\n"
   ]
  }
 ],
 "metadata": {
  "kernelspec": {
   "display_name": "Python 3",
   "language": "python",
   "name": "python3"
  },
  "language_info": {
   "codemirror_mode": {
    "name": "ipython",
    "version": 3
   },
   "file_extension": ".py",
   "mimetype": "text/x-python",
   "name": "python",
   "nbconvert_exporter": "python",
   "pygments_lexer": "ipython3",
   "version": "3.11.9"
  }
 },
 "nbformat": 4,
 "nbformat_minor": 5
}
