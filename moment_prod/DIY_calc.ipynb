{
 "cells": [
  {
   "cell_type": "code",
   "execution_count": 9,
   "id": "2b9ef2a3",
   "metadata": {},
   "outputs": [],
   "source": [
    "import numpy as np\n",
    "import cv2 as cv\n",
    "#import Funcs as F"
   ]
  },
  {
   "attachments": {
    "image.png": {
     "image/png": "[encoded data removed]"
    }
   },
   "cell_type": "markdown",
   "id": "676e5dfc",
   "metadata": {},
   "source": [
    "![image.png](attachment:image.png)"
   ]
  },
  {
   "cell_type": "code",
   "execution_count": 43,
   "id": "6178940c",
   "metadata": {},
   "outputs": [],
   "source": [
    "def Calc_img_Moment(img,p,q):\n",
    "    \"\"\"\n",
    "    Calculates the image moment for our picture of interest\n",
    "    \"\"\"\n",
    "\n",
    "    # not correct, centroid calc comes out wrong\n",
    "\n",
    "    h, w = img.shape\n",
    "    y, x = np.mgrid[0:h, 0:w]\n",
    "    return np.sum((x**p) * (y**q) * img)\n",
    "\n",
    "def Centroid(img):\n",
    "    \"\"\"\n",
    "    The calculation of the centroid is done here.\n",
    "    \n",
    "    \"\"\"\n",
    "\n",
    "    M_10 = Calc_img_Moment(img,1,0)\n",
    "    M_01 = Calc_img_Moment(img,0,1)\n",
    "\n",
    "    M_00 = Calc_img_Moment(img,0,0) \n",
    "\n",
    "    return (M_10/M_00), (M_01/M_00)"
   ]
  },
  {
   "cell_type": "code",
   "execution_count": 44,
   "id": "a233814b",
   "metadata": {},
   "outputs": [],
   "source": [
    "img_source = r\"..\\Data\\Raw\\Bear.jpg\"\n",
    "\n",
    "img = cv.imread(img_source,2)"
   ]
  },
  {
   "cell_type": "code",
   "execution_count": 45,
   "id": "fe973e8a",
   "metadata": {},
   "outputs": [
    {
     "name": "stdout",
     "output_type": "stream",
     "text": [
      "223 169\n"
     ]
    }
   ],
   "source": [
    "cx, cy = Centroid(img)\n",
    "cx = int(round(cx))\n",
    "cy = int(round(cy))\n",
    "print(int(round(cx)), int(round(cy)))"
   ]
  },
  {
   "cell_type": "code",
   "execution_count": 46,
   "id": "7fdef128",
   "metadata": {},
   "outputs": [],
   "source": [
    "# this code would be useful for us to see, by eye, if the image has calculated the correct centroid.\n",
    "\n",
    "# Define the center coordinates, radius, color, and thickness\n",
    "center_coordinates = (cx, cy)\n",
    "radius = 1\n",
    "colour = (255, 0, 0) # Blue color in BGR\n",
    "thickness = 5\n",
    "\n",
    "# Draw the circle\n",
    "image = cv.circle(img, center_coordinates, radius, colour, thickness)\n",
    "\n",
    "# Display the image\n",
    "cv.imshow('Image with Circle', image)\n",
    "cv.waitKey(0)\n",
    "cv.destroyAllWindows()"
   ]
  },
  {
   "cell_type": "code",
   "execution_count": 47,
   "id": "ddaa1d6d",
   "metadata": {},
   "outputs": [
    {
     "name": "stdout",
     "output_type": "stream",
     "text": [
      "[[255 255 255 ... 255 255 255]\n",
      " [255 255 255 ... 255 255 255]\n",
      " [255 255 255 ... 255 255 255]\n",
      " ...\n",
      " [255 255 255 ... 255 255 255]\n",
      " [255 255 255 ... 255 255 255]\n",
      " [255 255 255 ... 255 255 255]]\n"
     ]
    }
   ],
   "source": [
    "# We want to put the centroid onto the image itself with the help of libraries.\n",
    "print(img)"
   ]
  },
  {
   "cell_type": "code",
   "execution_count": 48,
   "id": "2fa319fb",
   "metadata": {},
   "outputs": [],
   "source": [
    "# we also seek to find a line through that said centroid, from which we will take further image moments accross each side.\n"
   ]
  },
  {
   "cell_type": "markdown",
   "id": "cb56864b",
   "metadata": {},
   "source": [
    "# Quantify the Symmetry\n",
    "\n",
    "from this we want to be looking for symmetries and to do this we will calculate the image moment of each section of the image and if it's symmetric we may find that the area would be the same and so their difference should be zero and the closer to zero the more symmetric the image is.\n",
    "\n",
    "This important fact will be that later it will be important to find the range of values that will be considered acceptable."
   ]
  },
  {
   "cell_type": "code",
   "execution_count": null,
   "id": "9c47621a",
   "metadata": {},
   "outputs": [],
   "source": [
    "from skimage.draw import line\n",
    "import numpy as np\n",
    "\n",
    "# image size\n",
    "h, w = I.shape\n",
    "\n",
    "# pick endpoints far enough to cover the image\n",
    "x0 = int(cx - np.cos(theta) * max(h, w))\n",
    "y0 = int(cy - np.sin(theta) * max(h, w))\n",
    "x1 = int(cx + np.cos(theta) * max(h, w))\n",
    "y1 = int(cy + np.sin(theta) * max(h, w))\n",
    "\n",
    "rr, cc = line(y0, x0, y1, x1)   # row, col indices of the line\n"
   ]
  }
 ],
 "metadata": {
  "kernelspec": {
   "display_name": "Python 3",
   "language": "python",
   "name": "python3"
  },
  "language_info": {
   "codemirror_mode": {
    "name": "ipython",
    "version": 3
   },
   "file_extension": ".py",
   "mimetype": "text/x-python",
   "name": "python",
   "nbconvert_exporter": "python",
   "pygments_lexer": "ipython3",
   "version": "3.11.9"
  }
 },
 "nbformat": 4,
 "nbformat_minor": 5
}
