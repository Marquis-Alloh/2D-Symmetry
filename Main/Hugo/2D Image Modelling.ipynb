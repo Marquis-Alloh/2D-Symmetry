{
 "cells": [
  {
   "cell_type": "markdown",
   "id": "fb3b390a",
   "metadata": {},
   "source": [
    "# 2D Image Modelling Experiment\n"
   ]
  },
  {
   "cell_type": "markdown",
   "id": "f5c6d424",
   "metadata": {},
   "source": [
    "### 1. Converting Images To Binary Form"
   ]
  },
  {
   "cell_type": "code",
   "execution_count": null,
   "id": "4df20a17",
   "metadata": {},
   "outputs": [],
   "source": [
    "import cv2"
   ]
  },
  {
   "cell_type": "code",
   "execution_count": 22,
   "id": "f8970762",
   "metadata": {},
   "outputs": [],
   "source": [
    "img = cv2.imread('Bear white background.jpg', 0)\n",
    "# Convert to binary using a threshold value of 127\n",
    "_, binary_img = cv2.threshold(img, 127, 255, cv2.THRESH_BINARY)\n",
    "\n",
    "invert = cv2.bitwise_not(binary_img)"
   ]
  },
  {
   "cell_type": "code",
   "execution_count": 32,
   "id": "39c8b9d1",
   "metadata": {},
   "outputs": [],
   "source": [
    "cv2.imshow(\"Binary Image\", invert)\n",
    "cv2.waitKey(0)\n",
    "cv2.destroyAllWindows()"
   ]
  },
  {
   "cell_type": "markdown",
   "id": "67a471a4",
   "metadata": {},
   "source": [
    "### 2. Calculating Image Moment and Centroid"
   ]
  },
  {
   "cell_type": "code",
   "execution_count": 24,
   "id": "782e42ca",
   "metadata": {},
   "outputs": [
    {
     "name": "stdout",
     "output_type": "stream",
     "text": [
      "{'m00': 28823.0, 'm10': 7969440.5, 'm01': 4605197.0, 'm20': 2266545340.0, 'm11': 1272510857.6666665, 'm02': 823506264.5, 'm30': 661518325140.05, 'm21': 362939181602.81665, 'm12': 227171148746.51666, 'm03': 157766895497.7, 'mu20': 63027944.758690834, 'mu11': -807099.5993535519, 'mu02': 87710566.31421089, 'mu30': -26036614.993408203, 'mu21': 1248048283.497511, 'mu12': -267024622.0682335, 'mu03': -1836804758.1240234, 'nu20': 0.07586732685938899, 'nu11': -0.00097151333978401, 'nu02': 0.10557802938140054, 'nu30': -0.00018460207009575938, 'nu21': 0.008848780717901655, 'nu12': -0.0018932299000009594, 'nu03': -0.013023119971520149}\n"
     ]
    }
   ],
   "source": [
    "# Load the image\n",
    "image = cv2.imread('bear_binary_image.jpg', 0)\n",
    "\n",
    "# Apply thresholding\n",
    "ret, thresh = cv2.threshold(image, 127, 255, 0)\n",
    "# Find contours\n",
    "contours, hierarchy = cv2.findContours(thresh, cv2.RETR_TREE, cv2.CHAIN_APPROX_SIMPLE)\n",
    "# Calculate moments for the first contour\n",
    "\n",
    "c = max(contours, key=cv2.contourArea)\n",
    "M = cv2.moments(c)\n",
    "\n",
    "# Print moments\n",
    "print(M)"
   ]
  },
  {
   "cell_type": "code",
   "execution_count": 25,
   "id": "f12c6fb0",
   "metadata": {},
   "outputs": [
    {
     "name": "stdout",
     "output_type": "stream",
     "text": [
      "Centroid: (276, 159)\n"
     ]
    }
   ],
   "source": [
    "cx = int(M['m10'] / M['m00'])\n",
    "cy = int(M['m01'] / M['m00'])\n",
    "print(f\"Centroid: ({cx}, {cy})\")"
   ]
  },
  {
   "cell_type": "code",
   "execution_count": 26,
   "id": "e300fa20",
   "metadata": {},
   "outputs": [],
   "source": [
    "import cv2\n",
    "# Load an image\n",
    "image = cv2.imread('bear_binary_image.jpg')\n",
    "# Define the center coordinates, radius, color, and thickness\n",
    "center_coordinates = (276, 159)\n",
    "radius = 1\n",
    "color = (255, 0, 0) # Blue color in BGR\n",
    "thickness = 5\n",
    "# Draw the circle\n",
    "image = cv2.circle(image, center_coordinates, radius, color, thickness)\n",
    "# Display the image\n",
    "cv2.imshow('Image with Circle', image)\n",
    "cv2.waitKey(0)\n",
    "cv2.destroyAllWindows()"
   ]
  },
  {
   "cell_type": "markdown",
   "id": "7451447d",
   "metadata": {},
   "source": [
    "### 3. Lines of Symmetry"
   ]
  },
  {
   "cell_type": "code",
   "execution_count": 31,
   "id": "1d13402c",
   "metadata": {},
   "outputs": [],
   "source": [
    "Vertical_symmetry = cv2.line(image.copy(), (276, 0), (276, image.shape[0]), 255, 2)\n",
    "\n",
    "\n",
    "cv2.imshow('Vertical Symmetry', Vertical_symmetry)\n",
    "cv2.waitKey(0)\n",
    "cv2.destroyAllWindows()"
   ]
  },
  {
   "cell_type": "code",
   "execution_count": 14,
   "id": "c2360ce5",
   "metadata": {},
   "outputs": [],
   "source": [
    "Horizontal_symmetry = cv2.line(image.copy(), (0, 159), (image.shape[1], 159), 255, 2)\n",
    "\n",
    "cv2.imshow('Horizontal Symmetry', Horizontal_symmetry)\n",
    "cv2.waitKey(0)\n",
    "cv2.destroyAllWindows()"
   ]
  },
  {
   "cell_type": "markdown",
   "id": "7e362534",
   "metadata": {},
   "source": [
    "### 4. Image Moment Comparison"
   ]
  },
  {
   "cell_type": "code",
   "execution_count": null,
   "id": "a5a8128e",
   "metadata": {},
   "outputs": [
    {
     "name": "stdout",
     "output_type": "stream",
     "text": [
      "{'m00': 3709485.0, 'm10': 874046415.0, 'm01': 586799625.0, 'm20': 208204746255.0, 'm11': 136623986700.0, 'm02': 105566873445.0, 'm30': 50102850120645.0, 'm21': 32210112240750.0, 'm12': 24369790459110.0, 'm03': 20424215078715.0, 'mu20': 2257792547.314921, 'mu11': -1640518630.1453838, 'mu02': 12741643015.40112, 'mu30': -19321289606.308342, 'mu21': 47510647586.640625, 'mu12': 14647941102.429688, 'mu03': -306475148254.7679, 'nu20': 0.0001640804341991044, 'nu11': -0.00011922132060631221, 'nu02': 0.0009259727253787384, 'nu30': -7.290411830439518e-07, 'nu21': 1.7926970419427807e-06, 'nu12': 5.527039099391596e-07, 'nu03': -1.1564083413162873e-05} {'m00': 3827040.0, 'm10': 605086440.0, 'm01': 602629005.0, 'm20': 98157356550.0, 'm11': 93574820400.0, 'm02': 107286949935.0, 'm30': 16283136054030.0, 'm21': 14944348562910.0, 'm12': 16513055529030.0, 'm03': 20494938494865.0, 'mu20': 2488223258.5074587, 'mu11': -1705772245.0186605, 'mu02': 12393319957.970736, 'mu30': -23164831636.505642, 'mu21': 27287126191.695312, 'mu12': 87310584351.35938, 'mu03': -302172598473.7073, 'nu20': 0.00016988824985079902, 'nu11': -0.00011646489532620044, 'nu02': 0.0008461778621760741, 'nu30': -8.084843998963611e-07, 'nu21': 9.523581345276267e-07, 'nu12': 3.047259159987472e-06, 'nu03': -1.0546238184487477e-05}\n"
     ]
    }
   ],
   "source": [
    "#Comparing about Vertical Line\n",
    "left_half = thresh[:, :cx]   # all columns before centroid\n",
    "right_half = thresh[:, cx:]  # all columns after centroid\n",
    "right_half_flipped = cv2.flip(right_half, 1)  # 1 = horizontal flip\n",
    "\n",
    "M_left = cv2.moments(left_half)\n",
    "M_right = cv2.moments(right_half_flipped)\n",
    "\n",
    "print(M_left, M_right)"
   ]
  },
  {
   "cell_type": "code",
   "execution_count": 38,
   "id": "55ef958a",
   "metadata": {},
   "outputs": [
    {
     "name": "stdout",
     "output_type": "stream",
     "text": [
      "{'m00': 4013445.0, 'm10': 1108233825.0, 'm01': 178810845.0, 'm20': 317391899325.0, 'm11': 48811763655.0, 'm02': 10464449535.0, 'm30': 93905531346615.0, 'm21': 13857509911365.0, 'm12': 2834535461955.0, 'm03': 684987601695.0, 'mu20': 11374946090.52676, 'mu11': -563330984.6006666, 'mu02': 2497897535.504798, 'mu30': -17928086143.18136, 'mu21': 27867593892.570312, 'mu12': -4820143005.392578, 'mu03': -3812021049.8657384, 'nu20': 0.00070617886482919, 'nu11': -3.497268752418206e-05, 'nu02': 0.0001550743565766405, 'nu30': -5.55572372186139e-07, 'nu21': 8.635871739105703e-07, 'nu12': -1.493711187237288e-07, 'nu03': -1.1813048869708234e-07} {'m00': 3523080.0, 'm10': 970916070.0, 'm01': 184166610.0, 'm20': 272778263400.0, 'm11': 50332995225.0, 'm02': 14310101730.0, 'm30': 78065299871850.0, 'm21': 13963522156335.0, 'm12': 3896804334885.0, 'm03': 1338197142660.0, 'mu20': 5206134755.676026, 'mu11': -420981751.51563436, 'mu02': 4682917493.794152, 'mu30': 21588325278.365738, 'mu21': -63741532431.22656, 'mu12': -2864752644.892578, 'mu03': 100553659158.98228, 'nu20': 0.00041944053168249516, 'nu11': -3.3917064765146846e-05, 'nu02': 0.0003772867003261465, 'nu30': 9.26643514755637e-07, 'nu21': -2.736000911899061e-06, 'nu12': -1.2296481665620533e-07, 'nu03': 4.316101177055885e-06}\n"
     ]
    }
   ],
   "source": [
    "#Comparing about Horizontal Line\n",
    "upper_half = thresh[:cy, :]\n",
    "lower_half = thresh[cy:, :]\n",
    "upper_half_flipped = cv2.flip(upper_half, 0)  # vertical flip\n",
    "\n",
    "M_lower = cv2.moments(lower_half)\n",
    "M_upper = cv2.moments(upper_half_flipped)\n",
    "\n",
    "print(M_lower, M_upper)"
   ]
  },
  {
   "cell_type": "code",
   "execution_count": null,
   "id": "9b643bcb",
   "metadata": {},
   "outputs": [],
   "source": []
  },
  {
   "cell_type": "markdown",
   "id": "05e934a3",
   "metadata": {},
   "source": [
    "# Adding Noise to an Arbitrary Image"
   ]
  },
  {
   "cell_type": "code",
   "execution_count": 11,
   "id": "c55dce6e",
   "metadata": {},
   "outputs": [],
   "source": [
    "#Add Gaussian Noise to an arbitrary image\n",
    "import numpy as np\n",
    "def add_gaussian_noise(image, mean=0, std=25):\n",
    "   noise = np.random.normal(mean, std, image.shape).astype(np.uint8)\n",
    "   noisy_image = cv2.add(image, noise)\n",
    "   return noisy_image\n",
    "# Load the image\n",
    "image = cv2.imread('bear_binary_image.jpg')\n",
    "if image is None:\n",
    "   raise Exception(\"Image not loaded. Check the file path.\")\n",
    "# Add Gaussian noise\n",
    "noisy_image = add_gaussian_noise(image)\n",
    "# Display the images\n",
    "cv2.imshow(\"Original Image\", image)\n",
    "cv2.imshow(\"Noisy Image\", noisy_image)\n",
    "cv2.waitKey(0)\n",
    "cv2.destroyAllWindows()"
   ]
  }
 ],
 "metadata": {
  "kernelspec": {
   "display_name": "base",
   "language": "python",
   "name": "python3"
  },
  "language_info": {
   "codemirror_mode": {
    "name": "ipython",
    "version": 3
   },
   "file_extension": ".py",
   "mimetype": "text/x-python",
   "name": "python",
   "nbconvert_exporter": "python",
   "pygments_lexer": "ipython3",
   "version": "3.11.5"
  }
 },
 "nbformat": 4,
 "nbformat_minor": 5
}
