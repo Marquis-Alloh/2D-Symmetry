{
 "cells": [
  {
   "cell_type": "markdown",
   "id": "d7a6277b",
   "metadata": {},
   "source": [
    "## Title: Shape and symmetry of 2D shapes in images\n",
    "\n",
    "In this project the goal is to create and/or identify a set of images, both real and simulated, which can be used to quantify the symmetry of an object."
   ]
  },
  {
   "cell_type": "code",
   "execution_count": null,
   "id": "b22b9c31",
   "metadata": {},
   "outputs": [],
   "source": [
    "# here we import\n",
    "import matplotlib.pyplot as plt\n",
    "import numpy as np\n",
    "import pandas as pd\n",
    "import cv2 as cv\n",
    "import Funcs as F"
   ]
  },
  {
   "cell_type": "markdown",
   "id": "1e0a6289",
   "metadata": {},
   "source": [
    "there's three sections here, this will work by creating our binary images, then calculating the centroid and finally making the actual symmetry analysis. It is important to do this as it makes the code more readable\n"
   ]
  },
  {
   "cell_type": "code",
   "execution_count": null,
   "id": "785aef3f",
   "metadata": {},
   "outputs": [],
   "source": [
    "def Apply_Noise():\n",
    "    print(\"do this later\")\n",
    "\n",
    "def intensity_conv(pixle):\n",
    "    # this converts between our standard Intensity scale to one based on 1 and 0 \n",
    "    Intensity_const = 255\n",
    "\n",
    "    Intensity_true = pixle/Intensity_const"
   ]
  },
  {
   "cell_type": "code",
   "execution_count": 39,
   "id": "18e5c8c6",
   "metadata": {},
   "outputs": [],
   "source": [
    "#our images of interest\n",
    "imgs = [r\"Data\\star.jpg\",r\"Data\\snail.jpg\",r\"Data\\tiger.jpg\",r\"Data\\balls.jpg\",r\"Data\\butterfly.jpg\",r\"Data\\Bear.jpg\"]\n"
   ]
  },
  {
   "cell_type": "code",
   "execution_count": null,
   "id": "ea753027",
   "metadata": {},
   "outputs": [],
   "source": [
    "F.Img_Conv(imgs[-2])"
   ]
  },
  {
   "cell_type": "code",
   "execution_count": 48,
   "id": "123e7c51",
   "metadata": {},
   "outputs": [
    {
     "data": {
      "text/plain": [
       "'star.jpg'"
      ]
     },
     "execution_count": 48,
     "metadata": {},
     "output_type": "execute_result"
    }
   ],
   "source": [
    "imgs[0][5:]"
   ]
  }
 ],
 "metadata": {
  "kernelspec": {
   "display_name": "Python 3",
   "language": "python",
   "name": "python3"
  },
  "language_info": {
   "codemirror_mode": {
    "name": "ipython",
    "version": 3
   },
   "file_extension": ".py",
   "mimetype": "text/x-python",
   "name": "python",
   "nbconvert_exporter": "python",
   "pygments_lexer": "ipython3",
   "version": "3.11.9"
  }
 },
 "nbformat": 4,
 "nbformat_minor": 5
}
