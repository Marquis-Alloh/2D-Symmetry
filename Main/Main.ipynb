{
 "cells": [
  {
   "cell_type": "markdown",
   "id": "d7a6277b",
   "metadata": {},
   "source": [
    "## Title: Shape and symmetry of 2D shapes in images\n",
    "\n",
    "In this project the goal is to create and/or identify a set of images, both real and simulated, which can be used to quantify the symmetry of an object."
   ]
  },
  {
   "cell_type": "code",
   "execution_count": 1,
   "id": "b22b9c31",
   "metadata": {},
   "outputs": [],
   "source": [
    "# here we import\n",
    "import matplotlib.pyplot as plt\n",
    "import numpy as np\n",
    "import pandas as pd\n",
    "import cv2 as cv"
   ]
  },
  {
   "cell_type": "code",
   "execution_count": 2,
   "id": "785aef3f",
   "metadata": {},
   "outputs": [],
   "source": [
    "def Apply_Noise():\n",
    "    print(\"do this later\")\n",
    "\n",
    "def intensity_conv(pixle):\n",
    "    # this converts between our standard Intensity scale to one based on 1 and 0 \n",
    "    Intensity_const = 255\n",
    "\n",
    "    Intensity_true = pixle/Intensity_const\n",
    "\n",
    "\n",
    "def Img_Conv(img_source):\n",
    "    '''\n",
    "    This procedure will respond\n",
    "    '''\n",
    "    # read the image file\n",
    "    img = cv.imread(img_source, 2)\n",
    "\n",
    "    ret, bw_img = cv.threshold(img, 127, 255, cv.THRESH_TOZERO) #cv.THRESH_BINARY to make it binary\n",
    "\n",
    "    #binary = cv.adaptiveThreshold(\n",
    "    #img, 255,\n",
    "    #cv.ADAPTIVE_THRESH_GAUSSIAN_C,\n",
    "    #cv.THRESH_BINARY,\n",
    "    #11, 2)\n",
    "\n",
    "\n",
    "    cv.imshow(\"Binary\", bw_img)\n",
    "    cv.waitKey(0)\n",
    "    cv.destroyAllWindows()"
   ]
  },
  {
   "cell_type": "code",
   "execution_count": 3,
   "id": "18e5c8c6",
   "metadata": {},
   "outputs": [],
   "source": [
    "#our images of interest\n",
    "imgs = [r\"Data\\star.jpg\",r\"Data\\snail.jpg\",r\"Data\\tiger.jpg\",r\"Data\\balls.jpg\",r\"Data\\butterfly.jpg\"]"
   ]
  },
  {
   "cell_type": "code",
   "execution_count": 4,
   "id": "fc11ccbb",
   "metadata": {},
   "outputs": [],
   "source": [
    "img = cv.imread(imgs[1], 2)"
   ]
  },
  {
   "cell_type": "code",
   "execution_count": 5,
   "id": "ea753027",
   "metadata": {},
   "outputs": [],
   "source": [
    "Img_Conv(imgs[-2])"
   ]
  }
 ],
 "metadata": {
  "kernelspec": {
   "display_name": "Python 3",
   "language": "python",
   "name": "python3"
  },
  "language_info": {
   "codemirror_mode": {
    "name": "ipython",
    "version": 3
   },
   "file_extension": ".py",
   "mimetype": "text/x-python",
   "name": "python",
   "nbconvert_exporter": "python",
   "pygments_lexer": "ipython3",
   "version": "3.11.9"
  }
 },
 "nbformat": 4,
 "nbformat_minor": 5
}
